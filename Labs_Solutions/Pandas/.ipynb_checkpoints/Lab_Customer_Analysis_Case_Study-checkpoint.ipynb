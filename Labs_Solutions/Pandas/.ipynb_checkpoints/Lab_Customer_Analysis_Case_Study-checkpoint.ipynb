{
 "cells": [
  {
   "cell_type": "code",
   "execution_count": 3,
   "id": "bb1f0c71",
   "metadata": {},
   "outputs": [],
   "source": [
    "import pandas as pd"
   ]
  },
  {
   "cell_type": "code",
   "execution_count": 45,
   "id": "774b9469",
   "metadata": {},
   "outputs": [],
   "source": [
    "def load_original_data():\n",
    "    return pd.read_csv(\"data/Data_Marketing_Customer_Analysis_Round2.csv\" )"
   ]
  },
  {
   "cell_type": "code",
   "execution_count": 46,
   "id": "9404cdc4",
   "metadata": {},
   "outputs": [],
   "source": [
    "customers_df=load_original_data()"
   ]
  },
  {
   "cell_type": "code",
   "execution_count": 65,
   "id": "c26d79fb",
   "metadata": {},
   "outputs": [],
   "source": [
    "customers_df[\"date\"]=pd.to_datetime(customers_df[\"Effective To Date\"])"
   ]
  },
  {
   "cell_type": "code",
   "execution_count": 60,
   "id": "d4285724",
   "metadata": {},
   "outputs": [],
   "source": [
    "customers_df[\"month\"]=list(map(lambda date:date.strftime(format=\"%B\"),customers_df[\"date\"]))"
   ]
  },
  {
   "cell_type": "code",
   "execution_count": 64,
   "id": "992ee3e7",
   "metadata": {},
   "outputs": [
    {
     "data": {
      "text/plain": [
       "0        February\n",
       "1         January\n",
       "2        February\n",
       "3         January\n",
       "4         January\n",
       "           ...   \n",
       "10905     January\n",
       "10906     January\n",
       "10907    February\n",
       "10908    February\n",
       "10909     January\n",
       "Name: month, Length: 10910, dtype: object"
      ]
     },
     "execution_count": 64,
     "metadata": {},
     "output_type": "execute_result"
    }
   ],
   "source": [
    "customers_df[\"month\"]"
   ]
  },
  {
   "cell_type": "code",
   "execution_count": null,
   "id": "e7c02e7e",
   "metadata": {},
   "outputs": [],
   "source": []
  }
 ],
 "metadata": {
  "kernelspec": {
   "display_name": "Python 3",
   "language": "python",
   "name": "python3"
  },
  "language_info": {
   "codemirror_mode": {
    "name": "ipython",
    "version": 3
   },
   "file_extension": ".py",
   "mimetype": "text/x-python",
   "name": "python",
   "nbconvert_exporter": "python",
   "pygments_lexer": "ipython3",
   "version": "3.9.6"
  }
 },
 "nbformat": 4,
 "nbformat_minor": 5
}
